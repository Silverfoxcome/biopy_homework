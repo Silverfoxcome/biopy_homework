{
  "nbformat": 4,
  "nbformat_minor": 0,
  "metadata": {
    "colab": {
      "name": "homework_4_v2.ipynb",
      "provenance": [],
      "collapsed_sections": [],
      "toc_visible": true,
      "include_colab_link": true
    },
    "kernelspec": {
      "display_name": "Python 3",
      "language": "python",
      "name": "python3"
    },
    "language_info": {
      "codemirror_mode": {
        "name": "ipython",
        "version": 3
      },
      "file_extension": ".py",
      "mimetype": "text/x-python",
      "name": "python",
      "nbconvert_exporter": "python",
      "pygments_lexer": "ipython3",
      "version": "3.6.10"
    }
  },
  "cells": [
    {
      "cell_type": "markdown",
      "metadata": {
        "id": "view-in-github",
        "colab_type": "text"
      },
      "source": [
        "<a href=\"https://colab.research.google.com/github/Silverfoxcome/biopy_homework/blob/main/homework_4_v2.ipynb\" target=\"_parent\"><img src=\"https://colab.research.google.com/assets/colab-badge.svg\" alt=\"Open In Colab\"/></a>"
      ]
    },
    {
      "cell_type": "markdown",
      "metadata": {
        "id": "Dp6mk840GljQ"
      },
      "source": [
        "# Functions"
      ]
    },
    {
      "cell_type": "markdown",
      "metadata": {
        "id": "VsI_PWurJEqT"
      },
      "source": [
        "### Both parts of the exercise for this section require you to test your answers with a collection of assert statements. Rather than typing them out, just copy and paste them from the exercise description into your program."
      ]
    },
    {
      "cell_type": "markdown",
      "metadata": {
        "id": "nucuYgaaJMo7"
      },
      "source": [
        "## 1. Percentage of amino acid residues, Part one\n",
        "Write a program that takes two inputs – a protein sequence and an amino acid residue code – and returns the percentage of the protein that the amino acid makes up. Use the following assertions to test your function:\n",
        "\n",
        "\n",
        "*   assert my_function(\"MSRSLLLRFLLFLLLLPPLP\", \"M\") == 5\n",
        "*   assert my_function(\"MSRSLLLRFLLFLLLLPPLP\", \"r\") == 10\n",
        "*   assert my_function(\"msrslllrfllfllllpplp\", \"L\") == 50\n",
        "*   assert my_function(\"MSRSLLLRFLLFLLLLPPLP\", \"Y\") == 0\n",
        "\n",
        "You'll have to change the function name my_function in the assert statements to whatever you decide to call your function."
      ]
    },
    {
      "cell_type": "code",
      "metadata": {
        "id": "YZqTVwz-4CAS"
      },
      "source": [
        "# defining the function #\n",
        "\n",
        "def get_aa_per2(prot, aa):\n",
        "  upper_prot = prot.upper()\n",
        "  upper_aa = aa.upper()\n",
        "  percentage_aa = (upper_prot.count(upper_aa) / len(upper_prot))*100\n",
        "  return round(percentage_aa, 2) "
      ],
      "execution_count": null,
      "outputs": []
    },
    {
      "cell_type": "code",
      "metadata": {
        "id": "Aq9gpNeJ9dzy"
      },
      "source": [
        "# asserting the function #\n",
        "assert get_aa_per2(\"MSRSLLLRFLLFLLLLPPLP\", \"M\") == 5\n",
        "assert get_aa_per2(\"MSRSLLLRFLLFLLLLPPLP\", \"r\") == 10\n",
        "assert get_aa_per2(\"msrslllrfllfllllpplp\", \"L\") == 50\n",
        "assert get_aa_per2(\"MSRSLLLRFLLFLLLLPPLP\", \"Y\") == 0"
      ],
      "execution_count": null,
      "outputs": []
    },
    {
      "cell_type": "markdown",
      "metadata": {
        "id": "86rq9dvbJ4hY"
      },
      "source": [
        "## 2. Percentage of amino acid residues, Part two\n",
        "Modify the function from part one so that it accepts a list of amino acid residues rather than a single one. If no list is given, the function should return the percentage of hydrophobic amino acid residues (A, I, L, M, F, W, Y and V). Your function should pass the following assertions:\n",
        "\n",
        "\n",
        "*   assert my_function(\"MSRSLLLRFLLFLLLLPPLP\", [\"M\"]) == 5\n",
        "*   assert my_function(\"MSRSLLLRFLLFLLLLPPLP\", ['M', 'L']) == 55\n",
        "*   assert my_function(\"MSRSLLLRFLLFLLLLPPLP\", ['F', 'S', 'L']) == 70\n",
        "*   assert my_function(\"MSRSLLLRFLLFLLLLPPLP\") == 65\n",
        "\n",
        "\n"
      ]
    },
    {
      "cell_type": "code",
      "metadata": {
        "id": "l1CVK41J3kJb",
        "scrolled": true
      },
      "source": [
        "#def get_aa_per(prot = \"\" , aa = \"A\", \"I\", \"L\", \"M\", \"F\", \"W\", \"Y\" ,\"V\" ):\n",
        "\n",
        "def get_aa_per(prot, aa = [\"A\", \"I\", \"L\", \"M\", \"F\", \"W\", \"Y\" ,\"V\"]):  \n",
        "  # aa is a list of aa's\n",
        "  # Default value of a parameter: if not list of aa's is given\n",
        "  # Default value of that list would be [\"A\", \"I\", \"L\", \"M\", \"F\", \"W\", \"Y\" ,\"V\"]\n",
        "\n",
        "  list_percentage_per_aa = [] \n",
        "  # empty list at first\n",
        "  # will be filled with the % of each aa in the given list\n",
        "  for element in aa:\n",
        "    upper_prot = prot.upper()\n",
        "    # element of list of aa\n",
        "    upper_aa = element.upper() \n",
        "    percentage_aa = (upper_prot.count(upper_aa) / len(upper_prot))*100\n",
        "    # append the new %aa to the list in each iteration\n",
        "    list_percentage_per_aa.append(percentage_aa)\n",
        "  \n",
        "  return round(sum(list_percentage_per_aa), 2) "
      ],
      "execution_count": null,
      "outputs": []
    },
    {
      "cell_type": "code",
      "metadata": {
        "id": "oHo4aEMvKwhF"
      },
      "source": [
        "assert get_aa_per(\"MSRSLLLRFLLFLLLLPPLP\", [\"M\"]) == 5\n",
        "assert get_aa_per(\"MSRSLLLRFLLFLLLLPPLP\", ['L']) == 50\n",
        "assert get_aa_per(\"MSRSLLLRFLLFLLLLPPLP\", ['F', 'S', 'L']) == 70\n",
        "assert get_aa_per(\"MSRSLLLRFLLFLLLLPPLP\") == 65"
      ],
      "execution_count": null,
      "outputs": []
    },
    {
      "cell_type": "markdown",
      "metadata": {
        "id": "ETGcB_r5GsQh"
      },
      "source": [
        "# Conditionals"
      ]
    },
    {
      "cell_type": "markdown",
      "metadata": {
        "id": "XDJS0rt6jaGm"
      },
      "source": [
        "The text file called data.csv, contains some made-up data for a number of genes. Each line contains the following fields for a single gene in this order: species name, sequence, gene name, expression level. The fields are separated by commas (hence the name of the file – csv stands for Comma Separated Values). Think of it as a representation of a table in a spreadsheet – each line is a row, and each field in a line is a column. All the exercises below use the data in this file.\n",
        "\n",
        "This is a multi part exercise which involves extracting and printing data from the file. The nature of this type of problem means that it's quite easy to get a program that runs without errors, but doesn't quite produce the correct output, so be sure to check your solutions manually."
      ]
    },
    {
      "cell_type": "markdown",
      "metadata": {
        "id": "yK8krG3ijmID"
      },
      "source": [
        "## 1. Several species\n",
        "\n",
        "Print out the gene names for all genes belonging to Drosophila melanogaster or Drosophila simulans."
      ]
    },
    {
      "cell_type": "code",
      "metadata": {
        "id": "HY-CGA4fpPaP",
        "outputId": "29313655-7b0b-4c2f-8ce0-005ad4fa2c8e"
      },
      "source": [
        "# OPEN FILE AND SAVE IT TO A FILE HANDLER\n",
        "fh = open(\"data.csv\", \"r\")\n",
        "\n",
        "# READ THE FILE HANDLER AND STORE THE CONTAIN TO A NEW VARIABLE\n",
        "data = fh.readlines()\n",
        "#print(data[0])\n",
        "\n",
        "# ITERATE THROUGH EACH LINE\n",
        "for line in data:\n",
        "    new_line = (line.strip(\"\\n\")).split(\",\")\n",
        "    if new_line[0] == \"Drosophila melanogaster\" or new_line[0] == \"Drosophila simulans\":\n",
        "        print(new_line[2])\n",
        "    \n",
        "# CLOSE FILE\n",
        "fh.close()"
      ],
      "execution_count": null,
      "outputs": [
        {
          "output_type": "stream",
          "text": [
            "kdy647\n",
            "jdg766\n",
            "kdy533\n"
          ],
          "name": "stdout"
        }
      ]
    },
    {
      "cell_type": "markdown",
      "metadata": {
        "id": "cupIDzpHkBBv"
      },
      "source": [
        "## 2. Length range\n",
        "\n",
        "Print out the gene names for all genes between 90 and 110 bases long."
      ]
    },
    {
      "cell_type": "code",
      "metadata": {
        "id": "qpPKsYvqPOng",
        "outputId": "3d12a5fa-56b3-44bb-c028-cd0b2373f98b"
      },
      "source": [
        "# OPEN FILE AND SAVE IT TO A FILE HANDLER\n",
        "fh = open(\"data.csv\", \"r\")\n",
        "\n",
        "# READ THE FILE HANDLER AND STORE THE CONTAIN TO A NEW VARIABLE\n",
        "data = fh.readlines()\n",
        "#print(data[0])\n",
        "\n",
        "# FOR LOOP TO ITERATE THROUGH EACH LINE\n",
        "for line in data:\n",
        "    new_line = (line.strip(\"\\n\")).split(\",\")\n",
        "    if len(new_line[1]) > 90 and len(new_line[1]) < 110:\n",
        "        print(new_line[2])\n",
        "\n",
        "# CLOSE FILE\n",
        "fh.close()"
      ],
      "execution_count": null,
      "outputs": [
        {
          "output_type": "stream",
          "text": [
            "kdy647\n",
            "teg436\n"
          ],
          "name": "stdout"
        }
      ]
    },
    {
      "cell_type": "markdown",
      "metadata": {
        "id": "AEQdQ_1qkEOc"
      },
      "source": [
        "## 3. AT content\n",
        "\n",
        "Print out the gene names for all genes whose AT content is less than 0.5 and whose expression level is greater than 200."
      ]
    },
    {
      "cell_type": "code",
      "metadata": {
        "id": "6nf8ejhHPOng"
      },
      "source": [
        "def get_at_content(dna):\n",
        "    a_count = dna.count(\"a\")\n",
        "    t_count = dna.count(\"t\")\n",
        "    at = (a_count + t_count)/len(dna)\n",
        "    return round(at, 2)"
      ],
      "execution_count": null,
      "outputs": []
    },
    {
      "cell_type": "code",
      "metadata": {
        "id": "JC5hdT-OPOnh",
        "outputId": "8f5483b9-8077-42ec-82a9-155d56f8af85"
      },
      "source": [
        "get_at_content(\"aagg\")"
      ],
      "execution_count": null,
      "outputs": [
        {
          "output_type": "execute_result",
          "data": {
            "text/plain": [
              "0.5"
            ]
          },
          "metadata": {
            "tags": []
          },
          "execution_count": 22
        }
      ]
    },
    {
      "cell_type": "code",
      "metadata": {
        "id": "vMuHvh36POnh"
      },
      "source": [
        "assert get_at_content(\"aagg\") == 0.5"
      ],
      "execution_count": null,
      "outputs": []
    },
    {
      "cell_type": "code",
      "metadata": {
        "id": "vlDP0Y2jPOnh",
        "outputId": "918adcf4-0912-46eb-be99-77702b58f3d3"
      },
      "source": [
        "# OPEN FILE AND SAVE IT TO A FILE HANDLER\n",
        "fh = open(\"data.csv\", \"r\")\n",
        "\n",
        "# READ FILE HANDLER AND STORE CONTAIN TO A NEW VARIABLE\n",
        "data = fh.readlines()\n",
        "\n",
        "# FOR LOOP AND CONDITIONAL\n",
        "for line in data:\n",
        "    new_line = line.strip(\"\\n\").split(\",\")\n",
        "    if get_at_content(new_line[1]) < 0.5 and int(new_line[3]) > 200:\n",
        "        print(new_line[2])\n",
        "\n",
        "# CLOSE FILE\n",
        "fh.close()"
      ],
      "execution_count": null,
      "outputs": [
        {
          "output_type": "stream",
          "text": [
            "teg436\n"
          ],
          "name": "stdout"
        }
      ]
    },
    {
      "cell_type": "markdown",
      "metadata": {
        "id": "hhvrDg5KkIYC"
      },
      "source": [
        "## 4. Complex condition\n",
        "\n",
        "Print out the gene names for all genes whose name begins with \"k\" or \"h\" except those belonging to Drosophila melanogaster."
      ]
    },
    {
      "cell_type": "code",
      "metadata": {
        "id": "c2QZeiEpPOni",
        "outputId": "baa34ca3-b30c-4931-d592-1d633fb7b7e7"
      },
      "source": [
        "# OPEN FILE AND SAVE IT TO A FILE HANDLER\n",
        "fh = open(\"data.csv\", \"r\")\n",
        "\n",
        "# READ FILE HANDLER AND STORE CONTAIN TO A NEW VARIABLE\n",
        "dat = fh.readlines()\n",
        "\n",
        "# FOR LOOP AND CONDITIONAL\n",
        "\n",
        "for line in dat:\n",
        "    line2 = line.strip(\"\\n\").split(\",\")\n",
        "    if line2[0] != \"Drosophila melanogaster\" and line2[2].startswith((\"k\", \"h\")):\n",
        "        print(line2[2])\n",
        "          \n",
        "# CLOSE FILE\n",
        "fh.close()"
      ],
      "execution_count": null,
      "outputs": [
        {
          "output_type": "stream",
          "text": [
            "kdy533\n",
            "hdt739\n",
            "hdu045\n"
          ],
          "name": "stdout"
        }
      ]
    },
    {
      "cell_type": "markdown",
      "metadata": {
        "id": "lU5u_u9vkLfv"
      },
      "source": [
        "## 5. High Low Medium\n",
        "\n",
        "For each gene, print out a message giving the gene name and saying whether its AT content is high (greater than 0.65), low (less than 0.45) or medium (between 0.45 and 0.65)."
      ]
    },
    {
      "cell_type": "code",
      "metadata": {
        "id": "vbfMF6J-POnj",
        "outputId": "07a2e822-1bf1-48ad-8b3d-5337c369d60b"
      },
      "source": [
        "# OPEN FILE AND SAVE IT TO A FILE HANDLER\n",
        "fh = open(\"data.csv\", \"r\")\n",
        "\n",
        "# READ FILE AND STORE CONTAIN TO A NEW VARIABLE\n",
        "d2 = fh.readlines() \n",
        "\n",
        "# FOR LOOP AND CONDITIONAL\n",
        "\n",
        "for line in d2:\n",
        "    line_processed = line.strip(\"\\n\").split(\",\")\n",
        "    # seq is index 1\n",
        "    at = get_at_content(line_processed[1])\n",
        "    if at < 0.45:\n",
        "        print(f\"The gene {line_processed[2]} has a low AT content of {at}\")\n",
        "    elif at > 0.65:\n",
        "        print(f\"The gene {line_processed[2]} has a high AT content of {at}\")\n",
        "    #elif 0.45 < at > 0.65:\n",
        "    else:\n",
        "        print(f\"The gene {line_processed[2]} has a medium AT content of {at}\")\n",
        "\n",
        "# CLOSE FILE\n",
        "fh.close()"
      ],
      "execution_count": null,
      "outputs": [
        {
          "output_type": "stream",
          "text": [
            "The gene kdy647 has a high AT content of 0.72\n",
            "The gene jdg766 has a medium AT content of 0.56\n",
            "The gene kdy533 has a medium AT content of 0.53\n",
            "The gene hdt739 has a low AT content of 0.29\n",
            "The gene hdu045 has a medium AT content of 0.53\n",
            "The gene teg436 has a medium AT content of 0.46\n"
          ],
          "name": "stdout"
        }
      ]
    }
  ]
}